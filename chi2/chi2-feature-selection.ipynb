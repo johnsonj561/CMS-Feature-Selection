{
 "cells": [
  {
   "cell_type": "code",
   "execution_count": 1,
   "metadata": {},
   "outputs": [],
   "source": [
    "import pandas as pd\n",
    "import numpy as np\n",
    "import os\n",
    "import timeit\n",
    "import matplotlib.pyplot as plt\n",
    "\n",
    "import sys\n",
    "sys.path.append(os.environ['CMS_ROOT'])\n",
    "\n",
    "from cms_modules.utils import (\n",
    "    apply_ros_rus,\n",
    "    get_binary_imbalance_ratio,\n",
    "    split_on_binary_attribute)\n",
    "\n",
    "pd.set_option('display.max_rows',500)\n",
    "pd.set_option('display.max_columns',500)"
   ]
  },
  {
   "cell_type": "markdown",
   "metadata": {},
   "source": [
    "### Load Data"
   ]
  },
  {
   "cell_type": "code",
   "execution_count": 2,
   "metadata": {},
   "outputs": [],
   "source": [
    "data_path = os.environ['CMS_PARTB_PATH']"
   ]
  },
  {
   "cell_type": "code",
   "execution_count": 3,
   "metadata": {},
   "outputs": [],
   "source": [
    "# take random sample from the training data\n",
    "train_data = pd.read_hdf(data_path, 'partB_train_normalized')\n",
    "test_data = pd.read_hdf(data_path, 'partB_test_normalized')\n",
    "pos_train, neg_train = split_on_binary_attribute(train_data, attribute='exclusion', pos_label=1, neg_label=0)\n",
    "train_data = apply_ros_rus(pos_train, neg_train, ros_rate=1, rus_rate=0.05)\n",
    "del pos_train\n",
    "del neg_train"
   ]
  },
  {
   "cell_type": "code",
   "execution_count": 4,
   "metadata": {},
   "outputs": [],
   "source": [
    "# separate features from labels\n",
    "train_y = train_data['exclusion']\n",
    "train_x = train_data.drop(columns=['exclusion'])\n",
    "test_y = test_data['exclusion']\n",
    "test_x = test_data.drop(columns=['exclusion'])"
   ]
  },
  {
   "cell_type": "code",
   "execution_count": 5,
   "metadata": {},
   "outputs": [
    {
     "name": "stdout",
     "output_type": "stream",
     "text": [
      "Training data shape (188840, 125)\n",
      "Test data shape (938474, 125)\n"
     ]
    }
   ],
   "source": [
    "print(f'Training data shape {train_x.shape}')\n",
    "print(f'Test data shape {test_x.shape}')"
   ]
  },
  {
   "cell_type": "markdown",
   "metadata": {},
   "source": [
    "# Chi-Squared Feature Selection"
   ]
  },
  {
   "cell_type": "code",
   "execution_count": 6,
   "metadata": {},
   "outputs": [],
   "source": [
    "from sklearn.feature_selection import RFE\n",
    "from sklearn.linear_model import LogisticRegression\n",
    "from sklearn.metrics import roc_auc_score"
   ]
  },
  {
   "cell_type": "code",
   "execution_count": 7,
   "metadata": {
    "scrolled": true
   },
   "outputs": [
    {
     "name": "stderr",
     "output_type": "stream",
     "text": [
      "/Users/jujohnson/anaconda3/envs/tf.latest/lib/python3.6/site-packages/sklearn/linear_model/logistic.py:432: FutureWarning: Default solver will be changed to 'lbfgs' in 0.22. Specify a solver to silence this warning.\n",
      "  FutureWarning)\n",
      "/Users/jujohnson/anaconda3/envs/tf.latest/lib/python3.6/site-packages/sklearn/linear_model/logistic.py:1544: UserWarning: 'n_jobs' > 1 does not have any effect when 'solver' is set to 'liblinear'. Got 'n_jobs' = 6.\n",
      "  \" = {}.\".format(effective_n_jobs(self.n_jobs)))\n",
      "/Users/jujohnson/anaconda3/envs/tf.latest/lib/python3.6/site-packages/sklearn/linear_model/logistic.py:432: FutureWarning: Default solver will be changed to 'lbfgs' in 0.22. Specify a solver to silence this warning.\n",
      "  FutureWarning)\n",
      "/Users/jujohnson/anaconda3/envs/tf.latest/lib/python3.6/site-packages/sklearn/linear_model/logistic.py:1544: UserWarning: 'n_jobs' > 1 does not have any effect when 'solver' is set to 'liblinear'. Got 'n_jobs' = 6.\n",
      "  \" = {}.\".format(effective_n_jobs(self.n_jobs)))\n",
      "/Users/jujohnson/anaconda3/envs/tf.latest/lib/python3.6/site-packages/sklearn/linear_model/logistic.py:432: FutureWarning: Default solver will be changed to 'lbfgs' in 0.22. Specify a solver to silence this warning.\n",
      "  FutureWarning)\n",
      "/Users/jujohnson/anaconda3/envs/tf.latest/lib/python3.6/site-packages/sklearn/linear_model/logistic.py:1544: UserWarning: 'n_jobs' > 1 does not have any effect when 'solver' is set to 'liblinear'. Got 'n_jobs' = 6.\n",
      "  \" = {}.\".format(effective_n_jobs(self.n_jobs)))\n",
      "/Users/jujohnson/anaconda3/envs/tf.latest/lib/python3.6/site-packages/sklearn/linear_model/logistic.py:432: FutureWarning: Default solver will be changed to 'lbfgs' in 0.22. Specify a solver to silence this warning.\n",
      "  FutureWarning)\n",
      "/Users/jujohnson/anaconda3/envs/tf.latest/lib/python3.6/site-packages/sklearn/linear_model/logistic.py:1544: UserWarning: 'n_jobs' > 1 does not have any effect when 'solver' is set to 'liblinear'. Got 'n_jobs' = 6.\n",
      "  \" = {}.\".format(effective_n_jobs(self.n_jobs)))\n",
      "/Users/jujohnson/anaconda3/envs/tf.latest/lib/python3.6/site-packages/sklearn/linear_model/logistic.py:432: FutureWarning: Default solver will be changed to 'lbfgs' in 0.22. Specify a solver to silence this warning.\n",
      "  FutureWarning)\n",
      "/Users/jujohnson/anaconda3/envs/tf.latest/lib/python3.6/site-packages/sklearn/linear_model/logistic.py:1544: UserWarning: 'n_jobs' > 1 does not have any effect when 'solver' is set to 'liblinear'. Got 'n_jobs' = 6.\n",
      "  \" = {}.\".format(effective_n_jobs(self.n_jobs)))\n",
      "/Users/jujohnson/anaconda3/envs/tf.latest/lib/python3.6/site-packages/sklearn/linear_model/logistic.py:432: FutureWarning: Default solver will be changed to 'lbfgs' in 0.22. Specify a solver to silence this warning.\n",
      "  FutureWarning)\n",
      "/Users/jujohnson/anaconda3/envs/tf.latest/lib/python3.6/site-packages/sklearn/linear_model/logistic.py:1544: UserWarning: 'n_jobs' > 1 does not have any effect when 'solver' is set to 'liblinear'. Got 'n_jobs' = 6.\n",
      "  \" = {}.\".format(effective_n_jobs(self.n_jobs)))\n"
     ]
    },
    {
     "data": {
      "text/plain": [
       "RFE(estimator=LogisticRegression(C=1.0, class_weight=None, dual=False,\n",
       "                                 fit_intercept=True, intercept_scaling=1,\n",
       "                                 l1_ratio=None, max_iter=100,\n",
       "                                 multi_class='warn', n_jobs=6, penalty='l2',\n",
       "                                 random_state=None, solver='warn', tol=0.0001,\n",
       "                                 verbose=0, warm_start=False),\n",
       "    n_features_to_select=100, step=5, verbose=0)"
      ]
     },
     "execution_count": 7,
     "metadata": {},
     "output_type": "execute_result"
    }
   ],
   "source": [
    "lr_model = LogisticRegression(n_jobs=6)\n",
    "rfe = RFE(estimator=lr_model, n_features_to_select=100, step=5)\n",
    "rfe.fit(train_x, train_y)"
   ]
  },
  {
   "cell_type": "code",
   "execution_count": 8,
   "metadata": {},
   "outputs": [
    {
     "name": "stdout",
     "output_type": "stream",
     "text": [
      "Using features ['line_srvc_cnt_sum' 'bene_day_srvc_cnt_sum'\n",
      " 'average_submitted_chrg_amt_sum' 'line_srvc_cnt_mean'\n",
      " 'average_submitted_chrg_amt_mean' 'average_submitted_chrg_amt_median'\n",
      " 'average_medicare_payment_amt_median' 'line_srvc_cnt_sd'\n",
      " 'bene_day_srvc_cnt_sd' 'average_submitted_chrg_amt_sd'\n",
      " 'average_medicare_payment_amt_sd' 'line_srvc_cnt_min'\n",
      " 'bene_day_srvc_cnt_min' 'average_submitted_chrg_amt_min'\n",
      " 'average_medicare_payment_amt_min' 'line_srvc_cnt_max'\n",
      " 'bene_day_srvc_cnt_max' 'average_submitted_chrg_amt_max' 'F' 'M'\n",
      " 'Addiction Medicine' 'All Other Suppliers' 'Ambulance Service Supplier'\n",
      " 'Ambulatory Surgical Center' 'Anesthesiologist Assistants'\n",
      " 'Audiologist (billing independently)' 'Cardiac Electrophysiology'\n",
      " 'Cardiac Surgery' 'Cardiology' 'Centralized Flu'\n",
      " 'Certified Clinical Nurse Specialist' 'Certified Nurse Midwife'\n",
      " 'Chiropractic' 'Clinical Laboratory' 'Clinical Psychologist'\n",
      " 'Colorectal Surgery (formerly proctology)' 'Critical Care (Intensivists)'\n",
      " 'CRNA' 'Dermatology' 'Diagnostic Radiology' 'Emergency Medicine'\n",
      " 'Endocrinology' 'Family Practice' 'Gastroenterology' 'General Practice'\n",
      " 'General Surgery' 'Geriatric Medicine' 'Geriatric Psychiatry'\n",
      " 'Gynecological/Oncology' 'Hand Surgery' 'Hematology'\n",
      " 'Hematology/Oncology' 'Hospice and Palliative Care'\n",
      " 'Independent Diagnostic Testing Facility' 'Infectious Disease'\n",
      " 'Internal Medicine' 'Interventional Cardiology'\n",
      " 'Interventional Pain Management' 'Interventional Radiology'\n",
      " 'Licensed Clinical Social Worker' 'Mass Immunization Roster Biller'\n",
      " 'Maxillofacial Surgery' 'Medical Oncology'\n",
      " 'Multispecialty Clinic/Group Practice' 'Nephrology' 'Neurology'\n",
      " 'Neurosurgery' 'Nuclear Medicine' 'Obstetrics/Gynecology'\n",
      " 'Occupational therapist' 'Ophthalmology' 'Optometry'\n",
      " 'Oral Surgery (dentists only)' 'Orthopedic Surgery'\n",
      " 'Osteopathic Manipulative Medicine' 'Otolaryngology' 'Pain Management'\n",
      " 'Pathology' 'Pediatric Medicine' 'Physical Medicine and Rehabilitation'\n",
      " 'Physical Therapist' 'Physician Assistant'\n",
      " 'Plastic and Reconstructive Surgery' 'Podiatry' 'Portable X-ray'\n",
      " 'Preventive Medicine' 'Psychiatry' 'Public Health Welfare Agency'\n",
      " 'Pulmonary Disease' 'Radiation Oncology'\n",
      " 'Registered Dietician/Nutrition Professional' 'Rheumatology'\n",
      " 'Sleep Medicine' 'Speech Language Pathologist' 'Sports Medicine'\n",
      " 'Surgical Oncology' 'Thoracic Surgery' 'Unknown Physician Specialty Code'\n",
      " 'Urology' 'Psychologist (billing independently)']\n"
     ]
    }
   ],
   "source": [
    "print(f'Using features {train_x.columns[rfe.support_].values}')"
   ]
  },
  {
   "cell_type": "code",
   "execution_count": 9,
   "metadata": {},
   "outputs": [],
   "source": [
    "posteriors = rfe.predict_proba(test_x)"
   ]
  },
  {
   "cell_type": "code",
   "execution_count": 56,
   "metadata": {},
   "outputs": [],
   "source": [
    "# feature_selector = SelectKBest(chi2, k=50).fit(train_x, train_y)\n",
    "# train_x_new = feature_selector.transform(train_x)\n",
    "# test_x_new = feature_selector.transform(test_x)"
   ]
  },
  {
   "cell_type": "code",
   "execution_count": 57,
   "metadata": {},
   "outputs": [],
   "source": [
    "lr_model = LogisticRegression(n_jobs=6)"
   ]
  },
  {
   "cell_type": "code",
   "execution_count": 58,
   "metadata": {},
   "outputs": [
    {
     "name": "stderr",
     "output_type": "stream",
     "text": [
      "/Users/jujohnson/anaconda3/envs/tf.latest/lib/python3.6/site-packages/sklearn/linear_model/logistic.py:432: FutureWarning: Default solver will be changed to 'lbfgs' in 0.22. Specify a solver to silence this warning.\n",
      "  FutureWarning)\n",
      "/Users/jujohnson/anaconda3/envs/tf.latest/lib/python3.6/site-packages/sklearn/linear_model/logistic.py:1544: UserWarning: 'n_jobs' > 1 does not have any effect when 'solver' is set to 'liblinear'. Got 'n_jobs' = 6.\n",
      "  \" = {}.\".format(effective_n_jobs(self.n_jobs)))\n"
     ]
    },
    {
     "name": "stdout",
     "output_type": "stream",
     "text": [
      "Training completed in 0.5847295409912476 seconds\n"
     ]
    }
   ],
   "source": [
    "start = timeit.default_timer()\n",
    "\n",
    "lr_model.fit(train_x_new, train_y)\n",
    "\n",
    "end = timeit.default_timer()\n",
    "print(f'Training completed in {end - start} seconds')"
   ]
  },
  {
   "cell_type": "code",
   "execution_count": 59,
   "metadata": {},
   "outputs": [],
   "source": [
    "posteriors = lr_model.predict_proba(test_x_new)"
   ]
  },
  {
   "cell_type": "code",
   "execution_count": 10,
   "metadata": {},
   "outputs": [
    {
     "data": {
      "text/plain": [
       "0.7984453132515584"
      ]
     },
     "execution_count": 10,
     "metadata": {},
     "output_type": "execute_result"
    }
   ],
   "source": [
    "roc_auc_score(test_y, posteriors[:, 1])"
   ]
  },
  {
   "cell_type": "code",
   "execution_count": null,
   "metadata": {},
   "outputs": [],
   "source": []
  },
  {
   "cell_type": "code",
   "execution_count": null,
   "metadata": {},
   "outputs": [],
   "source": []
  }
 ],
 "metadata": {
  "kernelspec": {
   "display_name": "Python 3",
   "language": "python",
   "name": "python3"
  },
  "language_info": {
   "codemirror_mode": {
    "name": "ipython",
    "version": 3
   },
   "file_extension": ".py",
   "mimetype": "text/x-python",
   "name": "python",
   "nbconvert_exporter": "python",
   "pygments_lexer": "ipython3",
   "version": "3.6.9"
  }
 },
 "nbformat": 4,
 "nbformat_minor": 2
}
